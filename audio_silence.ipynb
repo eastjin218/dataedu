{
 "cells": [
  {
   "cell_type": "code",
   "execution_count": 1,
   "metadata": {},
   "outputs": [],
   "source": [
    "import os, re, os.path, json, sys\n",
    "import argparse\n",
    "from tqdm import tqdm\n",
    "from glob import glob\n",
    "from pydub import silence, AudioSegment\n",
    "from pytube import YouTube"
   ]
  },
  {
   "cell_type": "code",
   "execution_count": 9,
   "metadata": {},
   "outputs": [],
   "source": [
    "# in_dir = sys.argv[1]\n",
    "# out_dir = sys.argv[2]\n",
    "in_dir = 'C:/Users/dataedu09/Documents/이동진/workplace/code/program_audio'\n",
    "out_dir ='C:/Users/dataedu09/Documents/이동진/workplace/code/002'\n",
    "\n",
    "big_dir = glob(in_dir+'/*.mp4')\n",
    "big_dir.sort()\n",
    "for nu, big in enumerate(big_dir[:5]):\n",
    "    num = str(nu + 306)\n",
    "    b_name = os.path.basename(big)\n",
    "    name = b_name.split('.')[0]\n",
    "    trans_big = '%s/%s.wav'%(in_dir, name)\n",
    "    os.system('ffmpeg -i '+big+' -acodec pcm_s16le -ac 1 -ar 24000 '+trans_big)\n",
    "    audio_file = AudioSegment.from_file(trans_big)\n",
    "    skip_idx = 0\n",
    "    min_silence_len = 450\n",
    "    silence_thresh=-40\n",
    "    silence_chunk_len=100\n",
    "    keep_silence=100\n",
    "    out_ext = 'wav'\n",
    "    not_silence_ranges = silence.detect_nonsilent(audio_file,min_silence_len=silence_chunk_len, silence_thresh=silence_thresh)\n",
    "    edges = [not_silence_ranges[0]]\n",
    "    for idx in range(1, len(not_silence_ranges)-1):\n",
    "        cur_start = not_silence_ranges[idx][0]\n",
    "        prev_end = edges[-1][1]\n",
    "\n",
    "        if cur_start - prev_end < min_silence_len:\n",
    "            edges[-1][1] = not_silence_ranges[idx][1]\n",
    "        else:\n",
    "            edges.append(not_silence_ranges[idx])\n",
    "\n",
    "    audio_paths = []\n",
    "    os.makedirs('%s/%s'%(out_dir,num), exist_ok=True)\n",
    "    for idx, (start_idx, end_idx) in enumerate(edges[skip_idx:]):\n",
    "        export_dir = \"{}/{}/{}_{:04d}.wav\".format(out_dir, num, num, idx)\n",
    "        start_idx = max(0, start_idx - keep_silence)\n",
    "        end_idx += keep_silence\n",
    "\n",
    "        target_audio_path = export_dir\n",
    "        #target_audio_path = \"{}/{}.{:04d}.{}\".format(\n",
    "        #        out_dir, filename, idx, out_ext)\n",
    "\n",
    "        segment=audio_file[start_idx:end_idx]\n",
    "\n",
    "        segment.export(target_audio_path, out_ext)  # for soundsegment\n",
    "\n",
    "        audio_paths.append(target_audio_path)\n"
   ]
  },
  {
   "cell_type": "code",
   "execution_count": 13,
   "metadata": {},
   "outputs": [
    {
     "name": "stdout",
     "output_type": "stream",
     "text": [
      "1561.054054054054\n",
      "1941.2179487179487\n"
     ]
    }
   ],
   "source": [
    "in_dir = 'C:/Users/dataedu09/Documents/이동진/workplace/code/program_audio'\n",
    "big_dir = glob(in_dir+'/*.mp4')\n",
    "big_dir.sort()\n",
    "for nu, big in enumerate(big_dir[:2]):\n",
    "    audio_file = AudioSegment.from_file(big)\n",
    "    detect = silence.detect_silence(audio_file, min_silence_len=1000, silence_thresh=-40, seek_step=1)\n",
    "    total = 0\n",
    "    for i in detect:\n",
    "        d = i[1]-i[0]\n",
    "        total += d\n",
    "    print(total/len(detect))\n",
    "#     print(detect)\n",
    "#     print('---------------')"
   ]
  },
  {
   "cell_type": "markdown",
   "metadata": {},
   "source": [
    "## 텍스트랑 영상 uid로 다운"
   ]
  },
  {
   "cell_type": "code",
   "execution_count": 14,
   "metadata": {},
   "outputs": [],
   "source": [
    "def tubedown(uid_lists , export_dir):\n",
    "    import os, os.path\n",
    "    from glob import glob\n",
    "    from pytube import YouTube\n",
    "    \n",
    "    tmp = uid_lists\n",
    "    with open(tmp,'r',encoding='utf-8') as f:\n",
    "        uid_list = f.readlines()\n",
    "        export = export_dir\n",
    "        os.makedirs(export, exist_ok=True)\n",
    "        for uid in uid_list:\n",
    "            ## text_vtt형식:\n",
    "            os.system('youtube-dl --write-sub --sub-lang ko --sub-format srv3 -o '+export+' --skip-download https://www.youtube.com/watch?v='+uid)\n",
    "            \n",
    "            ## 영상 다운:\n",
    "            yt = YouTube('https://www.youtube.com/watch?v='+uid)\n",
    "            stream = yt.streams.all()[0] \n",
    "            filename= '%s'%uid\n",
    "            stream.download(export, filename=filename)\n",
    "            mp4_dir = export+'/'+filename+'.mp4'\n",
    "            wav_dir=export+'/'+filename+'.wav'\n",
    "            flac_dir= export+'/flac/'+filename+'.flac'\n",
    "            os.system(\"ffmpeg -f s16le -ar 16000 -ac 1 -i \"+mp4_dir+\" \"+wav_dir)\n",
    "            os.system(\"ffmpeg -i \" + wav_dir + \" -c:a flac \"+flac_dir)\n",
    "            os.remove(mp4_dir)"
   ]
  },
  {
   "cell_type": "markdown",
   "metadata": {},
   "source": [
    "## vtt 및 영상 폴더 분류"
   ]
  },
  {
   "cell_type": "code",
   "execution_count": 2,
   "metadata": {},
   "outputs": [],
   "source": [
    "def classfic_folder(indir, outdir):\n",
    "    import os, os.path\n",
    "    from glob import glob\n",
    "    import webvtt\n",
    "    from pydub import silence, AudioSegment\n",
    "    import re\n",
    "    \n",
    "    indir = indir\n",
    "    outdir = outdir\n",
    "    files = glob(indir+'/*.vtt')\n",
    "    for nu, fi in enumerate(files):\n",
    "        num = str(nu + 306)\n",
    "        f_name = os.path.basename(fi)\n",
    "        name = f_name.split('.')[0]\n",
    "        os.makedirs('%s/%s'%(outdir,num), exist_ok=True)\n",
    "        for c in webvtt.read(fi):\n",
    "            tm = str(c)\n",
    "            texts = tm.split(' ',2)[2]\n",
    "            text = re.sub(r'\\\\n', ' ', texts)\n",
    "            with open(outdir+'/%s/%s.trans.txt'%(num,num),'a',encoding='utf-8') as f:\n",
    "                f.write(text+'\\n')\n",
    "                \n",
    "        ## 임시         \n",
    "        mp4_dir = indir+'/'+name+'.mp4'\n",
    "        wav_dir=indir+'/'+name+'.wav'\n",
    "        os.system(\"ffmpeg -i \"+mp4_dir+\" -vn -acodec pcm_s16le -ar 44100 -ac 2 \"+wav_dir)\n",
    "#         os.remove(mp4_dir)\n",
    "        \n",
    "        audio_dir='%s/%s.wav'%(indir, name)        \n",
    "        audio_file = AudioSegment.from_file(audio_dir)\n",
    "        skip_idx = 0\n",
    "        min_silence_len = 500\n",
    "        silence_thresh=-35\n",
    "#         silence_chunk_len=500\n",
    "        keep_silence=100\n",
    "        out_ext = 'wav'\n",
    "        not_silence_ranges = silence.detect_nonsilent(audio_file,min_silence_len=min_silence_len, silence_thresh=silence_thresh)\n",
    "        edges = [not_silence_ranges[0]]\n",
    "        for idx in range(1, len(not_silence_ranges)-1):\n",
    "            cur_start = not_silence_ranges[idx][0]\n",
    "            prev_end = edges[-1][1]\n",
    "\n",
    "            if cur_start - prev_end < min_silence_len:\n",
    "                edges[-1][1] = not_silence_ranges[idx][1]\n",
    "            else:\n",
    "                edges.append(not_silence_ranges[idx])\n",
    "\n",
    "        audio_paths = []\n",
    "        for idx, (start_idx, end_idx) in enumerate(edges[skip_idx:]):\n",
    "            export_dir = \"{}/{}/{}_{:04d}.wav\".format(outdir, num, num, idx)\n",
    "            start_idx = max(0, start_idx - keep_silence)\n",
    "            end_idx += keep_silence\n",
    "\n",
    "            target_audio_path = export_dir\n",
    "            segment=audio_file[start_idx:end_idx]\n",
    "            segment.export(target_audio_path, out_ext)  # for soundsegment\n",
    "            audio_paths.append(target_audio_path)"
   ]
  },
  {
   "cell_type": "code",
   "execution_count": 3,
   "metadata": {},
   "outputs": [],
   "source": [
    "classfic_folder(indir='C:/Users/dataedu09/Documents/이동진/workplace/code/program_audio', outdir='C:/Users/dataedu09/Documents/이동진/workplace/code/002')"
   ]
  },
  {
   "cell_type": "code",
   "execution_count": null,
   "metadata": {},
   "outputs": [],
   "source": [
    "def text_refine(indir, outdir):\n",
    "    import glob\n",
    "    indir = indir\n",
    "    outdir =outdir\n",
    "    file_dir = glob.glob(indir+'/*')\n",
    "    for i in file_dir:\n",
    "        file = glob(i+'/*.txt')\n",
    "        b_name = os.path.basename(i)\n",
    "        with open(file[0],'r',encoding='utf-8') as f:\n",
    "            tmp = f.readlines()\n",
    "            os.rename(file, indir+'/tmp.txt')\n",
    "            os.remove(indir+'/tmp.txt')\n",
    "            for i in tmp:\n",
    "                tm= re.sub(r'([0-9]).([0-9])', r'\\1 점 \\2',i)\n",
    "                tm = re.sub('''[.|?|,|:|'|\"]''','',tm)\n",
    "                p = re.compile(r\"[0-9][가-힣]|[a-z][가-힣]\").findall(tm) \n",
    "                for i in p:\n",
    "                    tm = re.sub(i[0]+i[1],i[0]+' '+i[1],tm)\n",
    "                with open(outdir+'/%s_tran.txt'%b_name,'a',encoding='utf-8') as f:\n",
    "                    f.write(text)"
   ]
  },
  {
   "cell_type": "code",
   "execution_count": null,
   "metadata": {},
   "outputs": [],
   "source": [
    "text_refine(indir='C:/Users/dataedu09/Documents/이동진/workplace/code/002', outdir='C:/Users/dataedu09/Documents/이동진/workplace/code/002')"
   ]
  }
 ],
 "metadata": {
  "kernelspec": {
   "display_name": "Python 3",
   "language": "python",
   "name": "python3"
  },
  "language_info": {
   "codemirror_mode": {
    "name": "ipython",
    "version": 3
   },
   "file_extension": ".py",
   "mimetype": "text/x-python",
   "name": "python",
   "nbconvert_exporter": "python",
   "pygments_lexer": "ipython3",
   "version": "3.7.6"
  }
 },
 "nbformat": 4,
 "nbformat_minor": 4
}
