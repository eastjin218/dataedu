{
 "cells": [
  {
   "cell_type": "markdown",
   "metadata": {},
   "source": [
    "# 띄워쓰기 영어 한글 숫자 \n",
    "### 20.09.17"
   ]
  },
  {
   "cell_type": "code",
   "execution_count": null,
   "metadata": {},
   "outputs": [],
   "source": [
    "## 띄워쓰기 영어 한글 숫자 \n",
    "## 특수문자 예제  [-=+,#/\\?;:^$.@*\\\"※~&%ㆍ!』\\\\‘|\\[\\]\\<\\>`\\'…》]\n",
    "## 괄호 제거 \\)|\\( ##\n",
    "text = \"export전화 114번호\"\n",
    "p = re.compile(r\"[0-9][가-힣]|[a-zA-Z][가-힣]\").findall(text)\n",
    "for i in p:\n",
    "    text = re.sub(i[0],i[0]+' ',text)\n",
    "print(text)"
   ]
  },
  {
   "cell_type": "code",
   "execution_count": null,
   "metadata": {},
   "outputs": [],
   "source": [
    "## 참고 \n",
    "re.sub(r'(\\d)(\\D)', r'\\1 \\2', 문자열)\n",
    "\n",
    "## 사용자 함수 \n",
    "def class_space(text):\n",
    "    text = re.sub(r'(\\d)([a-zA-Z])', r'\\1 \\2', text)\n",
    "    text = re.sub(r'(\\d)([가-힣])', r'\\1 \\2', text)\n",
    "    text = re.sub(r'([a-zA-Z])(\\d)', r'\\1 \\2', text)\n",
    "    text = re.sub(r'([가-힣])(\\d)', r'\\1 \\2', text)\n",
    "    text = re.sub(r'([a-zA-Z])([가-힣])', r'\\1 \\2', text)\n",
    "    text = re.sub(r'([가-힣])([a-zA-Z])', r'\\1 \\2', text)\n",
    "    return text"
   ]
  },
  {
   "cell_type": "code",
   "execution_count": null,
   "metadata": {},
   "outputs": [],
   "source": [
    "## kss data 문장 부호제거\n",
    "## 예제\n",
    "from chatspace import ChatSpace\n",
    "spacer = ChatSpace()\n",
    "with open('C:/Users/dataedu09/Documents/이동진/workplace/korean_dataset_4GB/004/1/1_004.txt','r',encoding='utf-8') as f:\n",
    "    tmp = f.readlines()\n",
    "    for i in tmp:\n",
    "        tm = re.sub('[.|?|,]','',i)\n",
    "        p = re.compile(r\"[0-9][가-힣]|[a-z][가-힣]\").findall(texts) \n",
    "        for i in p:\n",
    "            text = re.sub(i[0],i[0]+' ',text) \n",
    "        print(text)\n",
    "        with open('C:/U/dataedu09/Documents/이동진/workplace/korean_dataset_4GB/004/1/1_004.trans.txt','a',encoding='utf-8') as f:\n",
    "            f.write(text)\n",
    "        break"
   ]
  },
  {
   "cell_type": "code",
   "execution_count": null,
   "metadata": {},
   "outputs": [],
   "source": []
  }
 ],
 "metadata": {
  "kernelspec": {
   "display_name": "Python 3",
   "language": "python",
   "name": "python3"
  },
  "language_info": {
   "codemirror_mode": {
    "name": "ipython",
    "version": 3
   },
   "file_extension": ".py",
   "mimetype": "text/x-python",
   "name": "python",
   "nbconvert_exporter": "python",
   "pygments_lexer": "ipython3",
   "version": "3.7.6"
  }
 },
 "nbformat": 4,
 "nbformat_minor": 4
}
