{
 "cells": [
  {
   "cell_type": "code",
   "execution_count": 19,
   "metadata": {},
   "outputs": [],
   "source": [
    "from pytube import YouTube\n",
    "import subprocess\n",
    "import os.path, glob\n",
    "import re"
   ]
  },
  {
   "cell_type": "code",
   "execution_count": null,
   "metadata": {},
   "outputs": [],
   "source": [
    "# from bs4 import BeautifulSoup\n",
    "# import requests\n",
    "\n",
    "# source = requests.get('http://cms.bufs.ac.kr/yslee/PDS/names.htm').text\n",
    "# soup =BeautifulSoup(source, 'html.parser')\n",
    "# texts = soup.find_all('span'"
   ]
  },
  {
   "cell_type": "code",
   "execution_count": 18,
   "metadata": {},
   "outputs": [],
   "source": [
    "# youtube의 자동자막\n",
    "\n",
    "list_excel =['https://www.youtube.com/watch?v=yBxBHEPSpdM',\n",
    "             'https://www.youtube.com/watch?v=6jASTqkPq2E',\n",
    "             'https://www.youtube.com/watch?v=8L5JAneqpiQ',\n",
    "             'https://www.youtube.com/watch?v=6DJfvo9zatY',\n",
    "             'https://www.youtube.com/watch?v=6heMauzTa7g',\n",
    "             'https://www.youtube.com/watch?v=njHlcUE1svo',\n",
    "             'https://www.youtube.com/watch?v=tu5BpQQ7eaw',\n",
    "             'https://www.youtube.com/watch?v=q7zUKg5aars',\n",
    "             'https://www.youtube.com/watch?v=V1S-0i3isA0',\n",
    "             'https://www.youtube.com/watch?v=iG3YOrUAYjc',\n",
    "             'https://www.youtube.com/watch?v=zsfy-UGesCU',\n",
    "             'https://www.youtube.com/watch?v=9wZ8WEIVcRA',\n",
    "             'https://www.youtube.com/watch?v=6heMauzTa7g',\n",
    "             'https://www.youtube.com/watch?v=I-OiwOabXTk',\n",
    "             'https://www.youtube.com/watch?v=qbmzx7TABnw',\n",
    "             'https://www.youtube.com/watch?v=uxUsg5Av4Hw']"
   ]
  },
  {
   "cell_type": "code",
   "execution_count": 29,
   "metadata": {},
   "outputs": [
    {
     "name": "stderr",
     "output_type": "stream",
     "text": [
      "C:\\Users\\dataedu09\\anaconda3\\lib\\site-packages\\ipykernel_launcher.py:20: DeprecationWarning: Call to deprecated function all (This object can be treated as a dictionary).\n",
      "C:\\Users\\dataedu09\\anaconda3\\lib\\site-packages\\ipykernel_launcher.py:21: DeprecationWarning: Call to deprecated function get_by_language_code (This object can be treated as a dictionary, i.e. captions['en']).\n",
      "C:\\Users\\dataedu09\\anaconda3\\lib\\site-packages\\ipykernel_launcher.py:20: DeprecationWarning: Call to deprecated function all (This object can be treated as a dictionary).\n",
      "C:\\Users\\dataedu09\\anaconda3\\lib\\site-packages\\ipykernel_launcher.py:21: DeprecationWarning: Call to deprecated function get_by_language_code (This object can be treated as a dictionary, i.e. captions['en']).\n",
      "C:\\Users\\dataedu09\\anaconda3\\lib\\site-packages\\ipykernel_launcher.py:20: DeprecationWarning: Call to deprecated function all (This object can be treated as a dictionary).\n",
      "C:\\Users\\dataedu09\\anaconda3\\lib\\site-packages\\ipykernel_launcher.py:21: DeprecationWarning: Call to deprecated function get_by_language_code (This object can be treated as a dictionary, i.e. captions['en']).\n",
      "C:\\Users\\dataedu09\\anaconda3\\lib\\site-packages\\ipykernel_launcher.py:20: DeprecationWarning: Call to deprecated function all (This object can be treated as a dictionary).\n",
      "C:\\Users\\dataedu09\\anaconda3\\lib\\site-packages\\ipykernel_launcher.py:21: DeprecationWarning: Call to deprecated function get_by_language_code (This object can be treated as a dictionary, i.e. captions['en']).\n",
      "C:\\Users\\dataedu09\\anaconda3\\lib\\site-packages\\ipykernel_launcher.py:20: DeprecationWarning: Call to deprecated function all (This object can be treated as a dictionary).\n",
      "C:\\Users\\dataedu09\\anaconda3\\lib\\site-packages\\ipykernel_launcher.py:21: DeprecationWarning: Call to deprecated function get_by_language_code (This object can be treated as a dictionary, i.e. captions['en']).\n",
      "C:\\Users\\dataedu09\\anaconda3\\lib\\site-packages\\ipykernel_launcher.py:20: DeprecationWarning: Call to deprecated function all (This object can be treated as a dictionary).\n",
      "C:\\Users\\dataedu09\\anaconda3\\lib\\site-packages\\ipykernel_launcher.py:21: DeprecationWarning: Call to deprecated function get_by_language_code (This object can be treated as a dictionary, i.e. captions['en']).\n",
      "C:\\Users\\dataedu09\\anaconda3\\lib\\site-packages\\ipykernel_launcher.py:20: DeprecationWarning: Call to deprecated function all (This object can be treated as a dictionary).\n",
      "C:\\Users\\dataedu09\\anaconda3\\lib\\site-packages\\ipykernel_launcher.py:21: DeprecationWarning: Call to deprecated function get_by_language_code (This object can be treated as a dictionary, i.e. captions['en']).\n",
      "C:\\Users\\dataedu09\\anaconda3\\lib\\site-packages\\ipykernel_launcher.py:20: DeprecationWarning: Call to deprecated function all (This object can be treated as a dictionary).\n",
      "C:\\Users\\dataedu09\\anaconda3\\lib\\site-packages\\ipykernel_launcher.py:21: DeprecationWarning: Call to deprecated function get_by_language_code (This object can be treated as a dictionary, i.e. captions['en']).\n",
      "C:\\Users\\dataedu09\\anaconda3\\lib\\site-packages\\ipykernel_launcher.py:20: DeprecationWarning: Call to deprecated function all (This object can be treated as a dictionary).\n",
      "C:\\Users\\dataedu09\\anaconda3\\lib\\site-packages\\ipykernel_launcher.py:21: DeprecationWarning: Call to deprecated function get_by_language_code (This object can be treated as a dictionary, i.e. captions['en']).\n",
      "C:\\Users\\dataedu09\\anaconda3\\lib\\site-packages\\ipykernel_launcher.py:20: DeprecationWarning: Call to deprecated function all (This object can be treated as a dictionary).\n",
      "C:\\Users\\dataedu09\\anaconda3\\lib\\site-packages\\ipykernel_launcher.py:21: DeprecationWarning: Call to deprecated function get_by_language_code (This object can be treated as a dictionary, i.e. captions['en']).\n",
      "C:\\Users\\dataedu09\\anaconda3\\lib\\site-packages\\ipykernel_launcher.py:20: DeprecationWarning: Call to deprecated function all (This object can be treated as a dictionary).\n",
      "C:\\Users\\dataedu09\\anaconda3\\lib\\site-packages\\ipykernel_launcher.py:21: DeprecationWarning: Call to deprecated function get_by_language_code (This object can be treated as a dictionary, i.e. captions['en']).\n",
      "C:\\Users\\dataedu09\\anaconda3\\lib\\site-packages\\ipykernel_launcher.py:20: DeprecationWarning: Call to deprecated function all (This object can be treated as a dictionary).\n",
      "C:\\Users\\dataedu09\\anaconda3\\lib\\site-packages\\ipykernel_launcher.py:21: DeprecationWarning: Call to deprecated function get_by_language_code (This object can be treated as a dictionary, i.e. captions['en']).\n",
      "C:\\Users\\dataedu09\\anaconda3\\lib\\site-packages\\ipykernel_launcher.py:20: DeprecationWarning: Call to deprecated function all (This object can be treated as a dictionary).\n",
      "C:\\Users\\dataedu09\\anaconda3\\lib\\site-packages\\ipykernel_launcher.py:21: DeprecationWarning: Call to deprecated function get_by_language_code (This object can be treated as a dictionary, i.e. captions['en']).\n",
      "C:\\Users\\dataedu09\\anaconda3\\lib\\site-packages\\ipykernel_launcher.py:20: DeprecationWarning: Call to deprecated function all (This object can be treated as a dictionary).\n",
      "C:\\Users\\dataedu09\\anaconda3\\lib\\site-packages\\ipykernel_launcher.py:21: DeprecationWarning: Call to deprecated function get_by_language_code (This object can be treated as a dictionary, i.e. captions['en']).\n",
      "C:\\Users\\dataedu09\\anaconda3\\lib\\site-packages\\ipykernel_launcher.py:20: DeprecationWarning: Call to deprecated function all (This object can be treated as a dictionary).\n",
      "C:\\Users\\dataedu09\\anaconda3\\lib\\site-packages\\ipykernel_launcher.py:21: DeprecationWarning: Call to deprecated function get_by_language_code (This object can be treated as a dictionary, i.e. captions['en']).\n",
      "C:\\Users\\dataedu09\\anaconda3\\lib\\site-packages\\ipykernel_launcher.py:20: DeprecationWarning: Call to deprecated function all (This object can be treated as a dictionary).\n",
      "C:\\Users\\dataedu09\\anaconda3\\lib\\site-packages\\ipykernel_launcher.py:21: DeprecationWarning: Call to deprecated function get_by_language_code (This object can be treated as a dictionary, i.e. captions['en']).\n"
     ]
    },
    {
     "name": "stdout",
     "output_type": "stream",
     "text": [
      "완료\n"
     ]
    }
   ],
   "source": [
    "from bs4 import BeautifulSoup\n",
    "\n",
    "#유튜브 전용 인스턴스 생성\n",
    "for j,i in enumerate (list_excel):\n",
    "    yt = YouTube(i)\n",
    "    k = j+1\n",
    "    \n",
    "    # 특정영상 다운로드\n",
    "    os.makedirs('./%s'%k)\n",
    "    tmp=yt.streams.filter(only_audio=True).first()\n",
    "    tmp=tmp.download(output_path= './%s'%k, filename='youtube_%s'%k)\n",
    "    \n",
    "    # convert mp4 to flac \n",
    "    mp4_dir = tmp\n",
    "    wav_dir = './%s/youtube%s.wav'%(k,k)\n",
    "    subprocess.run('ffmpeg -i %s -acodec flac -bits_per_raw_sample 8 -ar 16000 %s'%(mp4_dir, wav_dir))\n",
    "    os.remove(mp4_dir)\n",
    "    \n",
    "    # 대본파일 들고오기\n",
    "    yt.captions.all()\n",
    "    caption = yt.captions.get_by_language_code('ko')\n",
    "\n",
    "    # 발화 내용과 태크표시됨\n",
    "    text = caption.xml_captions\n",
    "    soup = BeautifulSoup(text, \"html.parser\")\n",
    "    tmp=soup.find_all(\"text\")\n",
    "    if os.path.isfile('./%s/youtube%s.txt'%(k,k)):\n",
    "            os.remove('./%s/youtube%s.txt'%(k,k))\n",
    "    else:\n",
    "        pass\n",
    "    for i in tmp:\n",
    "        sent = i.get_text()\n",
    "        with open('./%s/youtube%s.txt'%(k,k),'a',encoding ='utf-8') as f:\n",
    "            f.write(sent)\n",
    "\n",
    "print('완료')"
   ]
  },
  {
   "cell_type": "code",
   "execution_count": 5,
   "metadata": {},
   "outputs": [],
   "source": [
    "list = ['dan', 'sam', 'licol', 'smith']"
   ]
  },
  {
   "cell_type": "code",
   "execution_count": 12,
   "metadata": {},
   "outputs": [],
   "source": [
    "import random"
   ]
  },
  {
   "cell_type": "code",
   "execution_count": 17,
   "metadata": {},
   "outputs": [
    {
     "name": "stdout",
     "output_type": "stream",
     "text": [
      "licol\n"
     ]
    }
   ],
   "source": []
  },
  {
   "cell_type": "code",
   "execution_count": null,
   "metadata": {},
   "outputs": [],
   "source": []
  }
 ],
 "metadata": {
  "kernelspec": {
   "display_name": "Python 3",
   "language": "python",
   "name": "python3"
  },
  "language_info": {
   "codemirror_mode": {
    "name": "ipython",
    "version": 3
   },
   "file_extension": ".py",
   "mimetype": "text/x-python",
   "name": "python",
   "nbconvert_exporter": "python",
   "pygments_lexer": "ipython3",
   "version": "3.7.6"
  }
 },
 "nbformat": 4,
 "nbformat_minor": 4
}
