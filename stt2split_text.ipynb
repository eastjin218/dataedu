{
 "cells": [
  {
   "cell_type": "code",
   "execution_count": 556,
   "metadata": {},
   "outputs": [],
   "source": [
    "import pandas as pd\n",
    "import os, glob, os.path\n",
    "from pytube import YouTube\n",
    "import subprocess\n",
    "import os.path, glob\n",
    "import re\n",
    "from bs4 import BeautifulSoup"
   ]
  },
  {
   "cell_type": "code",
   "execution_count": 3411,
   "metadata": {},
   "outputs": [],
   "source": [
    "name = \"XDp-lOa08-4\"\n",
    "list_excel =['https://www.youtube.com/watch?v=%s'%name]"
   ]
  },
  {
   "cell_type": "code",
   "execution_count": 3412,
   "metadata": {},
   "outputs": [],
   "source": [
    "for j,i in enumerate (list_excel):\n",
    "    yt = YouTube(i)\n",
    "    \n",
    "    # # 특정영상 다운로드\n",
    "    # os.makedirs('./%s'%k)\n",
    "    tmp=yt.streams.filter(only_audio=True).first()\n",
    "    tmp=tmp.download(output_path= './kids', filename='%s'%name)\n",
    "    os.system('ffmpeg -i ./kids/'+name+'.mp4 -acodec pcm_s16le -ac 1 -ar 16000 ./kids/'+name+'.wav')\n",
    "#     os.remove('./kids/'+name+'.mp4')"
   ]
  },
  {
   "cell_type": "code",
   "execution_count": 3449,
   "metadata": {},
   "outputs": [
    {
     "name": "stdout",
     "output_type": "stream",
     "text": [
      "2.00\n"
     ]
    }
   ],
   "source": [
    "start = 113.5\n",
    "end = 115.5\n",
    "du = \"%.2f\" % round(end-start,2)\n",
    "print(du)\n",
    "names = './kids/audio/old_f_1_100.wav'"
   ]
  },
  {
   "cell_type": "code",
   "execution_count": 3450,
   "metadata": {},
   "outputs": [
    {
     "data": {
      "text/plain": [
       "0"
      ]
     },
     "execution_count": 3450,
     "metadata": {},
     "output_type": "execute_result"
    }
   ],
   "source": [
    "os.system('ffmpeg -i ./kids/XDp-lOa08-4.wav -ss '+str(start)+' -t '+str(du)+' -acodec copy '+names)"
   ]
  },
  {
   "cell_type": "code",
   "execution_count": null,
   "metadata": {},
   "outputs": [],
   "source": []
  },
  {
   "cell_type": "code",
   "execution_count": 33,
   "metadata": {},
   "outputs": [
    {
     "data": {
      "text/plain": [
       "0"
      ]
     },
     "execution_count": 33,
     "metadata": {},
     "output_type": "execute_result"
    }
   ],
   "source": [
    "os.system('ffmpeg -i ./kids/conv_-e3cSTsiwuk.mp4 -acodec pcm_s16le -ac 1 -ar 16000 ./kids/conv_-e3cSTsiwuk.wav')"
   ]
  }
 ],
 "metadata": {
  "kernelspec": {
   "display_name": "Python 3",
   "language": "python",
   "name": "python3"
  },
  "language_info": {
   "codemirror_mode": {
    "name": "ipython",
    "version": 3
   },
   "file_extension": ".py",
   "mimetype": "text/x-python",
   "name": "python",
   "nbconvert_exporter": "python",
   "pygments_lexer": "ipython3",
   "version": "3.7.6"
  }
 },
 "nbformat": 4,
 "nbformat_minor": 4
}
