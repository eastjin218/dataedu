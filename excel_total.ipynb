{
 "cells": [
  {
   "cell_type": "code",
   "execution_count": 1,
   "metadata": {},
   "outputs": [],
   "source": [
    "import re, glob"
   ]
  },
  {
   "cell_type": "code",
   "execution_count": 30,
   "metadata": {},
   "outputs": [],
   "source": [
    "text_list = glob.glob('../../작업도구/excel_data/*')\n",
    "for i in text_list:\n",
    "    text = glob.glob(i+\"/*.txt\")\n",
    "    with open (text[0],'r' ,encoding='utf-8') as f:\n",
    "        tmp=f.readlines()\n",
    "        for j in tmp:\n",
    "            tm = j.split(' ', maxsplit=1)[1]\n",
    "            with open ('./tmp_test.txt', 'a',encoding='utf-8') as f:\n",
    "                f.write(tm)"
   ]
  },
  {
   "cell_type": "code",
   "execution_count": 32,
   "metadata": {},
   "outputs": [
    {
     "name": "stdout",
     "output_type": "stream",
     "text": [
      "mv 219 ../\n",
      "mv 220 ../\n",
      "mv 221 ../\n",
      "mv 222 ../\n",
      "mv 223 ../\n",
      "mv 224 ../\n",
      "mv 225 ../\n",
      "mv 226 ../\n",
      "mv 227 ../\n",
      "mv 228 ../\n",
      "mv 229 ../\n",
      "mv 230 ../\n",
      "mv 231 ../\n",
      "mv 232 ../\n",
      "mv 233 ../\n",
      "mv 234 ../\n",
      "mv 235 ../\n",
      "mv 236 ../\n",
      "mv 237 ../\n",
      "mv 238 ../\n",
      "mv 239 ../\n",
      "mv 240 ../\n",
      "mv 241 ../\n",
      "mv 242 ../\n",
      "mv 243 ../\n",
      "mv 244 ../\n",
      "mv 245 ../\n",
      "mv 246 ../\n",
      "mv 247 ../\n",
      "mv 248 ../\n",
      "mv 249 ../\n",
      "mv 250 ../\n",
      "mv 251 ../\n",
      "mv 252 ../\n",
      "mv 253 ../\n",
      "mv 254 ../\n",
      "mv 255 ../\n",
      "mv 256 ../\n",
      "mv 257 ../\n",
      "mv 258 ../\n",
      "mv 259 ../\n",
      "mv 260 ../\n",
      "mv 261 ../\n",
      "mv 262 ../\n",
      "mv 263 ../\n",
      "mv 264 ../\n",
      "mv 265 ../\n",
      "mv 266 ../\n",
      "mv 267 ../\n",
      "mv 268 ../\n",
      "mv 269 ../\n",
      "mv 270 ../\n",
      "mv 271 ../\n",
      "mv 272 ../\n",
      "mv 273 ../\n",
      "mv 274 ../\n",
      "mv 275 ../\n",
      "mv 276 ../\n",
      "mv 277 ../\n",
      "mv 278 ../\n",
      "mv 279 ../\n",
      "mv 280 ../\n",
      "mv 281 ../\n",
      "mv 282 ../\n",
      "mv 283 ../\n",
      "mv 284 ../\n",
      "mv 285 ../\n",
      "mv 286 ../\n",
      "mv 287 ../\n",
      "mv 288 ../\n",
      "mv 289 ../\n",
      "mv 290 ../\n",
      "mv 291 ../\n",
      "mv 292 ../\n",
      "mv 293 ../\n",
      "mv 294 ../\n",
      "mv 295 ../\n",
      "mv 296 ../\n",
      "mv 297 ../\n",
      "mv 298 ../\n",
      "mv 299 ../\n",
      "mv 300 ../\n",
      "mv 301 ../\n",
      "mv 302 ../\n",
      "mv 303 ../\n",
      "mv 304 ../\n",
      "mv 305 ../\n"
     ]
    }
   ],
   "source": [
    "for i in range(219, 306):\n",
    "    print(\"mv %s ../\"%i)"
   ]
  },
  {
   "cell_type": "code",
   "execution_count": null,
   "metadata": {},
   "outputs": [],
   "source": []
  }
 ],
 "metadata": {
  "kernelspec": {
   "display_name": "Python 3",
   "language": "python",
   "name": "python3"
  },
  "language_info": {
   "codemirror_mode": {
    "name": "ipython",
    "version": 3
   },
   "file_extension": ".py",
   "mimetype": "text/x-python",
   "name": "python",
   "nbconvert_exporter": "python",
   "pygments_lexer": "ipython3",
   "version": "3.7.6"
  }
 },
 "nbformat": 4,
 "nbformat_minor": 4
}
