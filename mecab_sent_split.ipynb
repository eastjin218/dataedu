{
 "cells": [
  {
   "cell_type": "code",
   "execution_count": null,
   "metadata": {},
   "outputs": [],
   "source": [
    "import os, glob\n",
    "import re\n",
    "from konlpy.tag import Mecab\n",
    "mecab = Mecab()\n",
    "\n",
    "files = glob.glob('/home/user/jupyter/LDJ/mecab_data/*.txt')\n",
    "for i in files[:1]:\n",
    "    with open(i,'r',encoding='utf-8') as f:\n",
    "        tmp = f.read()[10:]\n",
    "    tmp = ' '.join(tmp.split())\n",
    "#     tmp = re.sub('''['|\"|“|”|’|‘|]''','',tmp)\n",
    "    tmp = pre_text(tmp)\n",
    "    tm =mecab.pos(u'%s'%tmp)\n",
    "#     endword=['EC','EF','JC','MAJ','XSV+EF','XSV+ETM','VV+EC','VCP+EF']\n",
    "    endword=['EC','EF','JC','MAJ']\n",
    "    josaword=['JKS','JKC','JKG','JKO','JKB','JKV','JKQ','JX','XSN','XSV','XSA','EP','ETM','ETN']\n",
    "    fin=[]\n",
    "    te =[]\n",
    "    for i in tm:\n",
    "        if '+' in i[1]:\n",
    "            word = i[1].split('+')[1]\n",
    "        else:\n",
    "            word = i[1]\n",
    "        if word in josaword:\n",
    "            te.append(i[0]+' ')\n",
    "        elif word in endword:\n",
    "            te.append(i[0])\n",
    "            te = ''.join(te)\n",
    "            fin.append(te+'\\n')\n",
    "            te =[]\n",
    "        else:\n",
    "            te.append(i[0])"
   ]
  },
  {
   "cell_type": "code",
   "execution_count": null,
   "metadata": {},
   "outputs": [],
   "source": [
    "for i in fin:\n",
    "    with open('/home/user/jupyter/LDJ/text1.txt','a',encoding='utf-8') as f:\n",
    "        f.write(i)"
   ]
  },
  {
   "cell_type": "markdown",
   "metadata": {},
   "source": []
  }
 ],
 "metadata": {
  "kernelspec": {
   "display_name": "Python 3",
   "language": "python",
   "name": "python3"
  },
  "language_info": {
   "codemirror_mode": {
    "name": "ipython",
    "version": 3
   },
   "file_extension": ".py",
   "mimetype": "text/x-python",
   "name": "python",
   "nbconvert_exporter": "python",
   "pygments_lexer": "ipython3",
   "version": "3.7.6"
  }
 },
 "nbformat": 4,
 "nbformat_minor": 4
}
